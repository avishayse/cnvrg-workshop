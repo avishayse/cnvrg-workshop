{
 "cells": [
  {
   "cell_type": "code",
   "execution_count": null,
   "id": "93c93323-ebc6-4c24-a5a6-1a88b1241f18",
   "metadata": {},
   "outputs": [],
   "source": [
    "from kafka import KafkaProducer\n",
    "import json\n",
    "\n",
    "# Create a KafkaProducer instance\n",
    "producer = KafkaProducer(bootstrap_servers=['20.57.0.64:9092'])\n",
    "\n",
    "# Define the topic to send messages to\n",
    "topic = 'input_topic'\n",
    "\n",
    "# Create a dictionary to represent the message\n",
    "message = {\n",
    "    'Hi': 'whatsup',\n",
    "    'Hi': 'whatsup',\n",
    "    'Hi': 'whatsup'\n",
    "}\n",
    "\n",
    "# Convert the message to JSON\n",
    "serialized_message = json.dumps(message).encode('utf-8')\n",
    "\n",
    "# Send the message to Kafka\n",
    "producer.send(topic, value=serialized_message)\n",
    "\n",
    "# Wait for any outstanding messages to be delivered and delivery reports received\n",
    "producer.flush()\n",
    "\n",
    "# Close the connection to Kafka\n",
    "producer.close()\n"
   ]
  },
  {
   "cell_type": "code",
   "execution_count": null,
   "id": "2899ae04-afca-4026-b07b-7f72f7b47869",
   "metadata": {},
   "outputs": [],
   "source": [
    "from kafka import KafkaConsumer\n",
    "\n",
    "# Define the Kafka topic to consume from\n",
    "topic = 'input_topic'\n",
    "\n",
    "# Define the Kafka server and port\n",
    "bootstrap_servers = ['20.57.0.64:9092']\n",
    "\n",
    "# Create a Kafka consumer instance\n",
    "consumer = KafkaConsumer(topic, bootstrap_servers=bootstrap_servers)\n",
    "\n",
    "# Continuously poll for new messages\n",
    "for message in consumer:\n",
    "    # Print the message value\n",
    "    print(message.value)\n"
   ]
  },
  {
   "cell_type": "code",
   "execution_count": null,
   "id": "5006f164-0c53-456b-9084-9567018b4acb",
   "metadata": {},
   "outputs": [],
   "source": []
  }
 ],
 "metadata": {
  "kernelspec": {
   "display_name": "Python 3",
   "language": "python",
   "name": "python3"
  },
  "language_info": {
   "codemirror_mode": {
    "name": "ipython",
    "version": 3
   },
   "file_extension": ".py",
   "mimetype": "text/x-python",
   "name": "python",
   "nbconvert_exporter": "python",
   "pygments_lexer": "ipython3",
   "version": "3.6.9"
  }
 },
 "nbformat": 4,
 "nbformat_minor": 5
}
